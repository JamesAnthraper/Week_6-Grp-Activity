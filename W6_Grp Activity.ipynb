{
 "cells": [
  {
   "cell_type": "markdown",
   "id": "7fc91f25",
   "metadata": {},
   "source": [
    "# 1. Find out how many countries are there in the dataset"
   ]
  },
  {
   "cell_type": "code",
   "execution_count": 6,
   "id": "0b7c75f6",
   "metadata": {},
   "outputs": [
    {
     "data": {
      "text/html": [
       "<div>\n",
       "<style scoped>\n",
       "    .dataframe tbody tr th:only-of-type {\n",
       "        vertical-align: middle;\n",
       "    }\n",
       "\n",
       "    .dataframe tbody tr th {\n",
       "        vertical-align: top;\n",
       "    }\n",
       "\n",
       "    .dataframe thead th {\n",
       "        text-align: right;\n",
       "    }\n",
       "</style>\n",
       "<table border=\"1\" class=\"dataframe\">\n",
       "  <thead>\n",
       "    <tr style=\"text-align: right;\">\n",
       "      <th></th>\n",
       "      <th>country</th>\n",
       "      <th>Region</th>\n",
       "      <th>Surface area (km2)</th>\n",
       "      <th>Population in thousands (2017)</th>\n",
       "      <th>GDP per capita (current US$)</th>\n",
       "      <th>Agricultural production index</th>\n",
       "      <th>International trade: Imports (million US$)</th>\n",
       "    </tr>\n",
       "  </thead>\n",
       "  <tbody>\n",
       "    <tr>\n",
       "      <th>0</th>\n",
       "      <td>Afghanistan</td>\n",
       "      <td>SouthernAsia</td>\n",
       "      <td>652864</td>\n",
       "      <td>35530</td>\n",
       "      <td>623.2</td>\n",
       "      <td>125</td>\n",
       "      <td>3568</td>\n",
       "    </tr>\n",
       "    <tr>\n",
       "      <th>1</th>\n",
       "      <td>Albania</td>\n",
       "      <td>SouthernEurope</td>\n",
       "      <td>28748</td>\n",
       "      <td>2930</td>\n",
       "      <td>3984.2</td>\n",
       "      <td>134</td>\n",
       "      <td>4669</td>\n",
       "    </tr>\n",
       "    <tr>\n",
       "      <th>2</th>\n",
       "      <td>Algeria</td>\n",
       "      <td>NorthernAfrica</td>\n",
       "      <td>2381741</td>\n",
       "      <td>41318</td>\n",
       "      <td>4154.1</td>\n",
       "      <td>160</td>\n",
       "      <td>47091</td>\n",
       "    </tr>\n",
       "    <tr>\n",
       "      <th>3</th>\n",
       "      <td>Angola</td>\n",
       "      <td>MiddleAfrica</td>\n",
       "      <td>1246700</td>\n",
       "      <td>29784</td>\n",
       "      <td>4714.1</td>\n",
       "      <td>175</td>\n",
       "      <td>8790</td>\n",
       "    </tr>\n",
       "    <tr>\n",
       "      <th>4</th>\n",
       "      <td>Antigua and Barbuda</td>\n",
       "      <td>Caribbean</td>\n",
       "      <td>442</td>\n",
       "      <td>102</td>\n",
       "      <td>14764.5</td>\n",
       "      <td>88</td>\n",
       "      <td>491</td>\n",
       "    </tr>\n",
       "  </tbody>\n",
       "</table>\n",
       "</div>"
      ],
      "text/plain": [
       "               country          Region  Surface area (km2)  \\\n",
       "0          Afghanistan    SouthernAsia              652864   \n",
       "1              Albania  SouthernEurope               28748   \n",
       "2              Algeria  NorthernAfrica             2381741   \n",
       "3               Angola    MiddleAfrica             1246700   \n",
       "4  Antigua and Barbuda       Caribbean                 442   \n",
       "\n",
       "   Population in thousands (2017)  GDP per capita (current US$)  \\\n",
       "0                           35530                         623.2   \n",
       "1                            2930                        3984.2   \n",
       "2                           41318                        4154.1   \n",
       "3                           29784                        4714.1   \n",
       "4                             102                       14764.5   \n",
       "\n",
       "   Agricultural production index   International trade: Imports (million US$)  \n",
       "0                             125                                        3568  \n",
       "1                             134                                        4669  \n",
       "2                             160                                       47091  \n",
       "3                             175                                        8790  \n",
       "4                              88                                         491  "
      ]
     },
     "execution_count": 6,
     "metadata": {},
     "output_type": "execute_result"
    }
   ],
   "source": [
    "import pandas as pd\n",
    "import numpy as np\n",
    "import seaborn as sns\n",
    "import matplotlib.pyplot as plt\n",
    "data=pd.read_excel(\"Dataset_w6.xlsx\")\n",
    "data.head()"
   ]
  },
  {
   "cell_type": "code",
   "execution_count": 7,
   "id": "b644ff99",
   "metadata": {},
   "outputs": [
    {
     "data": {
      "text/plain": [
       "country                                       196\n",
       "Region                                         22\n",
       "Surface area (km2)                            196\n",
       "Population in thousands (2017)                192\n",
       "GDP per capita (current US$)                  195\n",
       "Agricultural production index                  82\n",
       "International trade: Imports (million US$)    195\n",
       "dtype: int64"
      ]
     },
     "execution_count": 7,
     "metadata": {},
     "output_type": "execute_result"
    }
   ],
   "source": [
    "data.nunique()"
   ]
  },
  {
   "cell_type": "code",
   "execution_count": 8,
   "id": "8c3936f9",
   "metadata": {},
   "outputs": [
    {
     "name": "stdout",
     "output_type": "stream",
     "text": [
      "196 Countries in the dataset.\n"
     ]
    }
   ],
   "source": [
    "df = data['country'].count()\n",
    "print(df,'Countries in the dataset.')"
   ]
  },
  {
   "cell_type": "markdown",
   "id": "320caec7",
   "metadata": {},
   "source": [
    "#### Answer: There are 196 countries in the dataset"
   ]
  },
  {
   "cell_type": "markdown",
   "id": "533ac34a",
   "metadata": {},
   "source": [
    "# 2. Examine the data by using visualizations."
   ]
  },
  {
   "cell_type": "code",
   "execution_count": 10,
   "id": "fd877716",
   "metadata": {},
   "outputs": [
    {
     "data": {
      "text/plain": [
       "Text(0.5, 1.0, 'Top 10 countries by Population')"
      ]
     },
     "execution_count": 10,
     "metadata": {},
     "output_type": "execute_result"
    },
    {
     "data": {
      "image/png": "[encoded data removed]",
      "text/plain": [
       "<Figure size 1152x576 with 1 Axes>"
      ]
     },
     "metadata": {
      "needs_background": "light"
     },
     "output_type": "display_data"
    }
   ],
   "source": [
    "# Top 10 countries by Population\n",
    "plt.figure(figsize=(16,8))\n",
    "Population = data[['country', 'Population in thousands (2017)']]\n",
    "Population = Population.sort_values('Population in thousands (2017)', ascending=False)\n",
    "Population=Population.head(10)\n",
    "sns.barplot(x=\"country\",y=\"Population in thousands (2017)\",data=Population)\n",
    "plt.title('Top 10 countries by Population',fontsize=10)"
   ]
  },
  {
   "cell_type": "markdown",
   "id": "be769d0a",
   "metadata": {},
   "source": [
    " #### Answer: China has the highest number of population folowed by India"
   ]
  },
  {
   "cell_type": "code",
   "execution_count": 15,
   "id": "8469bb47",
   "metadata": {},
   "outputs": [
    {
     "data": {
      "image/png": "[encoded data removed]",
      "text/plain": [
       "<Figure size 1152x576 with 1 Axes>"
      ]
     },
     "metadata": {
      "needs_background": "light"
     },
     "output_type": "display_data"
    }
   ],
   "source": [
    "# Top 10 countries by Surface Area\n",
    "plt.figure(figsize=(16,8))\n",
    "surface_area=data[[\"country\",\"Surface area (km2)\"]]\n",
    "suraface_area=surface_area.sort_values(\"Surface area (km2)\",ascending=False).head(10)\n",
    "sns.barplot(x='country',y='Surface area (km2)',data=suraface_area)\n",
    "plt.title('Top 10 countries by surface area',fontsize=10)\n",
    "plt.show()"
   ]
  },
  {
   "cell_type": "markdown",
   "id": "673c3935",
   "metadata": {},
   "source": [
    "#### Answer: Russian Federation has the highest Surface Area folowed by Canada"
   ]
  },
  {
   "cell_type": "code",
   "execution_count": 12,
   "id": "ac2d3c29",
   "metadata": {
    "scrolled": false
   },
   "outputs": [
    {
     "data": {
      "image/png": "[encoded data removed]",
      "text/plain": [
       "<Figure size 1152x576 with 1 Axes>"
      ]
     },
     "metadata": {
      "needs_background": "light"
     },
     "output_type": "display_data"
    }
   ],
   "source": [
    "# Top 10 countries by GDP\n",
    "GDP=data.sort_values(by=\"GDP per capita (current US$)\",ascending=False).head(10)\n",
    "plt.figure(figsize=(16,8))\n",
    "sns.barplot(x=\"country\",y=\"GDP per capita (current US$)\",data=GDP)\n",
    "plt.title(\"Top 10 countries with highest GDP\")\n",
    "plt.show()"
   ]
  },
  {
   "cell_type": "markdown",
   "id": "a0a5c755",
   "metadata": {},
   "source": [
    " #### Answer: Luxembourg has the highest GDP rate folowed by Bermuda"
   ]
  },
  {
   "cell_type": "code",
   "execution_count": 13,
   "id": "c6306216",
   "metadata": {},
   "outputs": [
    {
     "data": {
      "image/png": "[encoded data removed]",
      "text/plain": [
       "<Figure size 1152x576 with 1 Axes>"
      ]
     },
     "metadata": {
      "needs_background": "light"
     },
     "output_type": "display_data"
    }
   ],
   "source": [
    "#Surface area vs Agricultural Production Index\n",
    "plt.figure(figsize=(16,8))\n",
    "plt.scatter(\"Surface area (km2)\",\"Agricultural production index \",data=data)\n",
    "plt.xlabel(\"Surface area in Km2\", fontsize='15')\n",
    "plt.ylabel(\"Agricultural Production Index\", fontsize='15')\n",
    "plt.title(\"Area Vs Agricultural Production Index\", fontsize='20')\n",
    "plt.show()"
   ]
  },
  {
   "cell_type": "markdown",
   "id": "b980c450",
   "metadata": {},
   "source": [
    " #### Answer: Area with 0.00 Surface area has more Agricultural Production Index"
   ]
  },
  {
   "cell_type": "markdown",
   "id": "d60696bd",
   "metadata": {},
   "source": [
    "# 3. Find out how many countries with respect to the region are available in the dataset"
   ]
  },
  {
   "cell_type": "code",
   "execution_count": 16,
   "id": "5d939c17",
   "metadata": {},
   "outputs": [
    {
     "name": "stdout",
     "output_type": "stream",
     "text": [
      "region wise countries\n",
      " WesternAsia          18\n",
      "EasternAfrica        17\n",
      "Caribbean            16\n",
      "WesternAfrica        15\n",
      "SouthernEurope       12\n",
      "SouthAmerica         12\n",
      "South-easternAsia    11\n",
      "NorthernEurope       10\n",
      "EasternEurope        10\n",
      "SouthernAsia          9\n",
      "MiddleAfrica          9\n",
      "CentralAmerica        8\n",
      "EasternAsia           7\n",
      "WesternEurope         7\n",
      "CentralAsia           5\n",
      "NorthernAfrica        5\n",
      "SouthernAfrica        5\n",
      "Polynesia             5\n",
      "Melanesia             5\n",
      "NorthernAmerica       4\n",
      "Micronesia            4\n",
      "Oceania               2\n",
      "Name: Region, dtype: int64\n"
     ]
    }
   ],
   "source": [
    "region_wise=data[\"Region\"].value_counts()\n",
    "print('region wise countries\\n',region_wise)"
   ]
  },
  {
   "cell_type": "code",
   "execution_count": 20,
   "id": "72f46e28",
   "metadata": {},
   "outputs": [
    {
     "data": {
      "image/png": "[encoded data removed]",
      "text/plain": [
       "<Figure size 432x288 with 1 Axes>"
      ]
     },
     "metadata": {
      "needs_background": "light"
     },
     "output_type": "display_data"
    }
   ],
   "source": [
    "sns.countplot(data['Region'])\n",
    "plt.title(\"Region wise country count\")\n",
    "\n",
    "plt.xticks(rotation=90)\n",
    "import warnings\n",
    "warnings.filterwarnings(\"ignore\")"
   ]
  },
  {
   "cell_type": "markdown",
   "id": "ee3c0186",
   "metadata": {},
   "source": [
    " #### Answer: There are 18 countries in WesternAsia, 17 countries in EasternAfrica, 16 countries in Caribbean and so on"
   ]
  },
  {
   "cell_type": "markdown",
   "id": "8404dd24",
   "metadata": {},
   "source": [
    "# 4. On average which region has the highest\n"
   ]
  },
  {
   "cell_type": "markdown",
   "id": "c7f57cd9",
   "metadata": {},
   "source": [
    "# a. GDP per capita (current US$)\n"
   ]
  },
  {
   "cell_type": "code",
   "execution_count": 21,
   "id": "ac5b796a",
   "metadata": {},
   "outputs": [
    {
     "data": {
      "text/html": [
       "<div>\n",
       "<style scoped>\n",
       "    .dataframe tbody tr th:only-of-type {\n",
       "        vertical-align: middle;\n",
       "    }\n",
       "\n",
       "    .dataframe tbody tr th {\n",
       "        vertical-align: top;\n",
       "    }\n",
       "\n",
       "    .dataframe thead th {\n",
       "        text-align: right;\n",
       "    }\n",
       "</style>\n",
       "<table border=\"1\" class=\"dataframe\">\n",
       "  <thead>\n",
       "    <tr style=\"text-align: right;\">\n",
       "      <th></th>\n",
       "      <th>GDP per capita (current US$)</th>\n",
       "    </tr>\n",
       "    <tr>\n",
       "      <th>Region</th>\n",
       "      <th></th>\n",
       "    </tr>\n",
       "  </thead>\n",
       "  <tbody>\n",
       "    <tr>\n",
       "      <th>Caribbean</th>\n",
       "      <td>15135.562500</td>\n",
       "    </tr>\n",
       "    <tr>\n",
       "      <th>CentralAmerica</th>\n",
       "      <td>6348.137500</td>\n",
       "    </tr>\n",
       "    <tr>\n",
       "      <th>CentralAsia</th>\n",
       "      <td>4329.880000</td>\n",
       "    </tr>\n",
       "    <tr>\n",
       "      <th>EasternAfrica</th>\n",
       "      <td>2088.852941</td>\n",
       "    </tr>\n",
       "    <tr>\n",
       "      <th>EasternAsia</th>\n",
       "      <td>27967.614286</td>\n",
       "    </tr>\n",
       "    <tr>\n",
       "      <th>EasternEurope</th>\n",
       "      <td>9292.490000</td>\n",
       "    </tr>\n",
       "    <tr>\n",
       "      <th>Melanesia</th>\n",
       "      <td>9261.960000</td>\n",
       "    </tr>\n",
       "    <tr>\n",
       "      <th>Micronesia</th>\n",
       "      <td>5008.300000</td>\n",
       "    </tr>\n",
       "    <tr>\n",
       "      <th>MiddleAfrica</th>\n",
       "      <td>3928.833333</td>\n",
       "    </tr>\n",
       "    <tr>\n",
       "      <th>NorthernAfrica</th>\n",
       "      <td>3934.960000</td>\n",
       "    </tr>\n",
       "    <tr>\n",
       "      <th>NorthernAmerica</th>\n",
       "      <td>57659.000000</td>\n",
       "    </tr>\n",
       "    <tr>\n",
       "      <th>NorthernEurope</th>\n",
       "      <td>42098.220000</td>\n",
       "    </tr>\n",
       "    <tr>\n",
       "      <th>Oceania</th>\n",
       "      <td>44823.250000</td>\n",
       "    </tr>\n",
       "    <tr>\n",
       "      <th>Polynesia</th>\n",
       "      <td>8686.520000</td>\n",
       "    </tr>\n",
       "    <tr>\n",
       "      <th>South-easternAsia</th>\n",
       "      <td>10299.027273</td>\n",
       "    </tr>\n",
       "    <tr>\n",
       "      <th>SouthAmerica</th>\n",
       "      <td>8499.775000</td>\n",
       "    </tr>\n",
       "    <tr>\n",
       "      <th>SouthernAfrica</th>\n",
       "      <td>4191.900000</td>\n",
       "    </tr>\n",
       "    <tr>\n",
       "      <th>SouthernAsia</th>\n",
       "      <td>2968.400000</td>\n",
       "    </tr>\n",
       "    <tr>\n",
       "      <th>SouthernEurope</th>\n",
       "      <td>14462.741667</td>\n",
       "    </tr>\n",
       "    <tr>\n",
       "      <th>WesternAfrica</th>\n",
       "      <td>1013.140000</td>\n",
       "    </tr>\n",
       "    <tr>\n",
       "      <th>WesternAsia</th>\n",
       "      <td>17013.938889</td>\n",
       "    </tr>\n",
       "    <tr>\n",
       "      <th>WesternEurope</th>\n",
       "      <td>55387.128571</td>\n",
       "    </tr>\n",
       "  </tbody>\n",
       "</table>\n",
       "</div>"
      ],
      "text/plain": [
       "                   GDP per capita (current US$)\n",
       "Region                                         \n",
       "Caribbean                          15135.562500\n",
       "CentralAmerica                      6348.137500\n",
       "CentralAsia                         4329.880000\n",
       "EasternAfrica                       2088.852941\n",
       "EasternAsia                        27967.614286\n",
       "EasternEurope                       9292.490000\n",
       "Melanesia                           9261.960000\n",
       "Micronesia                          5008.300000\n",
       "MiddleAfrica                        3928.833333\n",
       "NorthernAfrica                      3934.960000\n",
       "NorthernAmerica                    57659.000000\n",
       "NorthernEurope                     42098.220000\n",
       "Oceania                            44823.250000\n",
       "Polynesia                           8686.520000\n",
       "South-easternAsia                  10299.027273\n",
       "SouthAmerica                        8499.775000\n",
       "SouthernAfrica                      4191.900000\n",
       "SouthernAsia                        2968.400000\n",
       "SouthernEurope                     14462.741667\n",
       "WesternAfrica                       1013.140000\n",
       "WesternAsia                        17013.938889\n",
       "WesternEurope                      55387.128571"
      ]
     },
     "execution_count": 21,
     "metadata": {},
     "output_type": "execute_result"
    }
   ],
   "source": [
    "percapita=data.groupby('Region')['GDP per capita (current US$)'].mean()\n",
    "dataset=pd.DataFrame(percapita)\n",
    "dataset"
   ]
  },
  {
   "cell_type": "code",
   "execution_count": 22,
   "id": "adbd704a",
   "metadata": {},
   "outputs": [
    {
     "data": {
      "text/html": [
       "<div>\n",
       "<style scoped>\n",
       "    .dataframe tbody tr th:only-of-type {\n",
       "        vertical-align: middle;\n",
       "    }\n",
       "\n",
       "    .dataframe tbody tr th {\n",
       "        vertical-align: top;\n",
       "    }\n",
       "\n",
       "    .dataframe thead th {\n",
       "        text-align: right;\n",
       "    }\n",
       "</style>\n",
       "<table border=\"1\" class=\"dataframe\">\n",
       "  <thead>\n",
       "    <tr style=\"text-align: right;\">\n",
       "      <th></th>\n",
       "      <th>GDP per capita (current US$)</th>\n",
       "    </tr>\n",
       "    <tr>\n",
       "      <th>Region</th>\n",
       "      <th></th>\n",
       "    </tr>\n",
       "  </thead>\n",
       "  <tbody>\n",
       "    <tr>\n",
       "      <th>NorthernAmerica</th>\n",
       "      <td>57659.0</td>\n",
       "    </tr>\n",
       "  </tbody>\n",
       "</table>\n",
       "</div>"
      ],
      "text/plain": [
       "                 GDP per capita (current US$)\n",
       "Region                                       \n",
       "NorthernAmerica                       57659.0"
      ]
     },
     "execution_count": 22,
     "metadata": {},
     "output_type": "execute_result"
    }
   ],
   "source": [
    "dataset.nlargest(1,columns='GDP per capita (current US$)')"
   ]
  },
  {
   "cell_type": "markdown",
   "id": "20e1793d",
   "metadata": {},
   "source": [
    "#### Answer: Northern America is the region with highest average GDP per capita in US$ "
   ]
  },
  {
   "cell_type": "markdown",
   "id": "d63e2f6d",
   "metadata": {},
   "source": [
    "# b. International trade: Imports (million US$)\n"
   ]
  },
  {
   "cell_type": "code",
   "execution_count": 23,
   "id": "24e383db",
   "metadata": {},
   "outputs": [
    {
     "data": {
      "text/html": [
       "<div>\n",
       "<style scoped>\n",
       "    .dataframe tbody tr th:only-of-type {\n",
       "        vertical-align: middle;\n",
       "    }\n",
       "\n",
       "    .dataframe tbody tr th {\n",
       "        vertical-align: top;\n",
       "    }\n",
       "\n",
       "    .dataframe thead th {\n",
       "        text-align: right;\n",
       "    }\n",
       "</style>\n",
       "<table border=\"1\" class=\"dataframe\">\n",
       "  <thead>\n",
       "    <tr style=\"text-align: right;\">\n",
       "      <th></th>\n",
       "      <th>International trade: Imports (million US$)</th>\n",
       "    </tr>\n",
       "    <tr>\n",
       "      <th>Region</th>\n",
       "      <th></th>\n",
       "    </tr>\n",
       "  </thead>\n",
       "  <tbody>\n",
       "    <tr>\n",
       "      <th>Caribbean</th>\n",
       "      <td>3057.312500</td>\n",
       "    </tr>\n",
       "    <tr>\n",
       "      <th>CentralAmerica</th>\n",
       "      <td>57031.500000</td>\n",
       "    </tr>\n",
       "    <tr>\n",
       "      <th>CentralAsia</th>\n",
       "      <td>12063.400000</td>\n",
       "    </tr>\n",
       "    <tr>\n",
       "      <th>EasternAfrica</th>\n",
       "      <td>4726.176471</td>\n",
       "    </tr>\n",
       "    <tr>\n",
       "      <th>EasternAsia</th>\n",
       "      <td>451995.000000</td>\n",
       "    </tr>\n",
       "    <tr>\n",
       "      <th>EasternEurope</th>\n",
       "      <td>85243.900000</td>\n",
       "    </tr>\n",
       "    <tr>\n",
       "      <th>Melanesia</th>\n",
       "      <td>2896.400000</td>\n",
       "    </tr>\n",
       "    <tr>\n",
       "      <th>Micronesia</th>\n",
       "      <td>99.000000</td>\n",
       "    </tr>\n",
       "    <tr>\n",
       "      <th>MiddleAfrica</th>\n",
       "      <td>4381.222222</td>\n",
       "    </tr>\n",
       "    <tr>\n",
       "      <th>NorthernAfrica</th>\n",
       "      <td>35034.400000</td>\n",
       "    </tr>\n",
       "    <tr>\n",
       "      <th>NorthernAmerica</th>\n",
       "      <td>663552.250000</td>\n",
       "    </tr>\n",
       "    <tr>\n",
       "      <th>NorthernEurope</th>\n",
       "      <td>113407.200000</td>\n",
       "    </tr>\n",
       "    <tr>\n",
       "      <th>Oceania</th>\n",
       "      <td>112914.500000</td>\n",
       "    </tr>\n",
       "    <tr>\n",
       "      <th>Polynesia</th>\n",
       "      <td>432.000000</td>\n",
       "    </tr>\n",
       "    <tr>\n",
       "      <th>South-easternAsia</th>\n",
       "      <td>98324.636364</td>\n",
       "    </tr>\n",
       "    <tr>\n",
       "      <th>SouthAmerica</th>\n",
       "      <td>32885.666667</td>\n",
       "    </tr>\n",
       "    <tr>\n",
       "      <th>SouthernAfrica</th>\n",
       "      <td>18005.600000</td>\n",
       "    </tr>\n",
       "    <tr>\n",
       "      <th>SouthernAsia</th>\n",
       "      <td>58199.333333</td>\n",
       "    </tr>\n",
       "    <tr>\n",
       "      <th>SouthernEurope</th>\n",
       "      <td>76666.666667</td>\n",
       "    </tr>\n",
       "    <tr>\n",
       "      <th>WesternAfrica</th>\n",
       "      <td>4898.333333</td>\n",
       "    </tr>\n",
       "    <tr>\n",
       "      <th>WesternAsia</th>\n",
       "      <td>46025.555556</td>\n",
       "    </tr>\n",
       "    <tr>\n",
       "      <th>WesternEurope</th>\n",
       "      <td>407498.428571</td>\n",
       "    </tr>\n",
       "  </tbody>\n",
       "</table>\n",
       "</div>"
      ],
      "text/plain": [
       "                   International trade: Imports (million US$)\n",
       "Region                                                       \n",
       "Caribbean                                         3057.312500\n",
       "CentralAmerica                                   57031.500000\n",
       "CentralAsia                                      12063.400000\n",
       "EasternAfrica                                     4726.176471\n",
       "EasternAsia                                     451995.000000\n",
       "EasternEurope                                    85243.900000\n",
       "Melanesia                                         2896.400000\n",
       "Micronesia                                          99.000000\n",
       "MiddleAfrica                                      4381.222222\n",
       "NorthernAfrica                                   35034.400000\n",
       "NorthernAmerica                                 663552.250000\n",
       "NorthernEurope                                  113407.200000\n",
       "Oceania                                         112914.500000\n",
       "Polynesia                                          432.000000\n",
       "South-easternAsia                                98324.636364\n",
       "SouthAmerica                                     32885.666667\n",
       "SouthernAfrica                                   18005.600000\n",
       "SouthernAsia                                     58199.333333\n",
       "SouthernEurope                                   76666.666667\n",
       "WesternAfrica                                     4898.333333\n",
       "WesternAsia                                      46025.555556\n",
       "WesternEurope                                   407498.428571"
      ]
     },
     "execution_count": 23,
     "metadata": {},
     "output_type": "execute_result"
    }
   ],
   "source": [
    "International_trade=data.groupby('Region')['International trade: Imports (million US$)'].mean()\n",
    "dataset2=pd.DataFrame(International_trade)\n",
    "dataset2"
   ]
  },
  {
   "cell_type": "code",
   "execution_count": 24,
   "id": "a2e50e0b",
   "metadata": {},
   "outputs": [
    {
     "data": {
      "text/html": [
       "<div>\n",
       "<style scoped>\n",
       "    .dataframe tbody tr th:only-of-type {\n",
       "        vertical-align: middle;\n",
       "    }\n",
       "\n",
       "    .dataframe tbody tr th {\n",
       "        vertical-align: top;\n",
       "    }\n",
       "\n",
       "    .dataframe thead th {\n",
       "        text-align: right;\n",
       "    }\n",
       "</style>\n",
       "<table border=\"1\" class=\"dataframe\">\n",
       "  <thead>\n",
       "    <tr style=\"text-align: right;\">\n",
       "      <th></th>\n",
       "      <th>International trade: Imports (million US$)</th>\n",
       "    </tr>\n",
       "    <tr>\n",
       "      <th>Region</th>\n",
       "      <th></th>\n",
       "    </tr>\n",
       "  </thead>\n",
       "  <tbody>\n",
       "    <tr>\n",
       "      <th>NorthernAmerica</th>\n",
       "      <td>663552.25</td>\n",
       "    </tr>\n",
       "  </tbody>\n",
       "</table>\n",
       "</div>"
      ],
      "text/plain": [
       "                 International trade: Imports (million US$)\n",
       "Region                                                     \n",
       "NorthernAmerica                                   663552.25"
      ]
     },
     "execution_count": 24,
     "metadata": {},
     "output_type": "execute_result"
    }
   ],
   "source": [
    "dataset2.nlargest(1,columns='International trade: Imports (million US$)')"
   ]
  },
  {
   "cell_type": "markdown",
   "id": "c84e1d29",
   "metadata": {},
   "source": [
    "#### Answer: Northern America is the region with highest average International trade: Imports (million US$)"
   ]
  },
  {
   "cell_type": "markdown",
   "id": "46845ec1",
   "metadata": {},
   "source": [
    "# 5.Find out which region has more consistent with respect to GDP per capita (current US$)"
   ]
  },
  {
   "cell_type": "code",
   "execution_count": 26,
   "id": "7dcf3ece",
   "metadata": {},
   "outputs": [
    {
     "data": {
      "text/html": [
       "<div>\n",
       "<style scoped>\n",
       "    .dataframe tbody tr th:only-of-type {\n",
       "        vertical-align: middle;\n",
       "    }\n",
       "\n",
       "    .dataframe tbody tr th {\n",
       "        vertical-align: top;\n",
       "    }\n",
       "\n",
       "    .dataframe thead th {\n",
       "        text-align: right;\n",
       "    }\n",
       "</style>\n",
       "<table border=\"1\" class=\"dataframe\">\n",
       "  <thead>\n",
       "    <tr style=\"text-align: right;\">\n",
       "      <th></th>\n",
       "      <th>count</th>\n",
       "      <th>mean</th>\n",
       "      <th>std</th>\n",
       "      <th>min</th>\n",
       "      <th>25%</th>\n",
       "      <th>50%</th>\n",
       "      <th>75%</th>\n",
       "      <th>max</th>\n",
       "    </tr>\n",
       "    <tr>\n",
       "      <th>Region</th>\n",
       "      <th></th>\n",
       "      <th></th>\n",
       "      <th></th>\n",
       "      <th></th>\n",
       "      <th></th>\n",
       "      <th></th>\n",
       "      <th></th>\n",
       "      <th></th>\n",
       "    </tr>\n",
       "  </thead>\n",
       "  <tbody>\n",
       "    <tr>\n",
       "      <th>Caribbean</th>\n",
       "      <td>16.0</td>\n",
       "      <td>15135.562500</td>\n",
       "      <td>14579.371326</td>\n",
       "      <td>793.7</td>\n",
       "      <td>6973.125</td>\n",
       "      <td>10243.60</td>\n",
       "      <td>16594.650</td>\n",
       "      <td>62132.0</td>\n",
       "    </tr>\n",
       "    <tr>\n",
       "      <th>CentralAmerica</th>\n",
       "      <td>8.0</td>\n",
       "      <td>6348.137500</td>\n",
       "      <td>4180.440883</td>\n",
       "      <td>2086.9</td>\n",
       "      <td>3558.100</td>\n",
       "      <td>4504.40</td>\n",
       "      <td>9489.425</td>\n",
       "      <td>13268.1</td>\n",
       "    </tr>\n",
       "    <tr>\n",
       "      <th>CentralAsia</th>\n",
       "      <td>5.0</td>\n",
       "      <td>4329.880000</td>\n",
       "      <td>4152.215490</td>\n",
       "      <td>925.9</td>\n",
       "      <td>1106.400</td>\n",
       "      <td>2308.30</td>\n",
       "      <td>6996.700</td>\n",
       "      <td>10312.1</td>\n",
       "    </tr>\n",
       "    <tr>\n",
       "      <th>EasternAfrica</th>\n",
       "      <td>17.0</td>\n",
       "      <td>2088.852941</td>\n",
       "      <td>3716.131770</td>\n",
       "      <td>144.5</td>\n",
       "      <td>529.200</td>\n",
       "      <td>877.30</td>\n",
       "      <td>1368.900</td>\n",
       "      <td>14133.2</td>\n",
       "    </tr>\n",
       "    <tr>\n",
       "      <th>EasternAsia</th>\n",
       "      <td>7.0</td>\n",
       "      <td>27967.614286</td>\n",
       "      <td>27485.120923</td>\n",
       "      <td>648.0</td>\n",
       "      <td>6041.250</td>\n",
       "      <td>27396.70</td>\n",
       "      <td>38529.850</td>\n",
       "      <td>78586.4</td>\n",
       "    </tr>\n",
       "    <tr>\n",
       "      <th>EasternEurope</th>\n",
       "      <td>10.0</td>\n",
       "      <td>9292.490000</td>\n",
       "      <td>5415.488739</td>\n",
       "      <td>1591.4</td>\n",
       "      <td>6024.800</td>\n",
       "      <td>9182.00</td>\n",
       "      <td>12354.275</td>\n",
       "      <td>17561.7</td>\n",
       "    </tr>\n",
       "    <tr>\n",
       "      <th>Melanesia</th>\n",
       "      <td>5.0</td>\n",
       "      <td>9261.960000</td>\n",
       "      <td>13855.842686</td>\n",
       "      <td>1841.6</td>\n",
       "      <td>2783.000</td>\n",
       "      <td>2797.60</td>\n",
       "      <td>4921.900</td>\n",
       "      <td>33965.7</td>\n",
       "    </tr>\n",
       "    <tr>\n",
       "      <th>Micronesia</th>\n",
       "      <td>4.0</td>\n",
       "      <td>5008.300000</td>\n",
       "      <td>4820.669694</td>\n",
       "      <td>1442.9</td>\n",
       "      <td>2622.125</td>\n",
       "      <td>3233.90</td>\n",
       "      <td>5620.075</td>\n",
       "      <td>12122.5</td>\n",
       "    </tr>\n",
       "    <tr>\n",
       "      <th>MiddleAfrica</th>\n",
       "      <td>9.0</td>\n",
       "      <td>3928.833333</td>\n",
       "      <td>5274.846281</td>\n",
       "      <td>333.2</td>\n",
       "      <td>713.000</td>\n",
       "      <td>1752.80</td>\n",
       "      <td>4714.100</td>\n",
       "      <td>16344.1</td>\n",
       "    </tr>\n",
       "    <tr>\n",
       "      <th>NorthernAfrica</th>\n",
       "      <td>5.0</td>\n",
       "      <td>3934.960000</td>\n",
       "      <td>974.706575</td>\n",
       "      <td>2919.3</td>\n",
       "      <td>3452.300</td>\n",
       "      <td>3660.90</td>\n",
       "      <td>4154.100</td>\n",
       "      <td>5488.2</td>\n",
       "    </tr>\n",
       "    <tr>\n",
       "      <th>NorthernAmerica</th>\n",
       "      <td>4.0</td>\n",
       "      <td>57659.000000</td>\n",
       "      <td>25749.619445</td>\n",
       "      <td>36976.7</td>\n",
       "      <td>41648.375</td>\n",
       "      <td>49629.70</td>\n",
       "      <td>65640.325</td>\n",
       "      <td>94399.9</td>\n",
       "    </tr>\n",
       "    <tr>\n",
       "      <th>NorthernEurope</th>\n",
       "      <td>10.0</td>\n",
       "      <td>42098.220000</td>\n",
       "      <td>20671.030185</td>\n",
       "      <td>13704.1</td>\n",
       "      <td>23371.025</td>\n",
       "      <td>47424.95</td>\n",
       "      <td>52595.975</td>\n",
       "      <td>74185.5</td>\n",
       "    </tr>\n",
       "    <tr>\n",
       "      <th>Oceania</th>\n",
       "      <td>2.0</td>\n",
       "      <td>44823.250000</td>\n",
       "      <td>9233.329638</td>\n",
       "      <td>38294.3</td>\n",
       "      <td>41558.775</td>\n",
       "      <td>44823.25</td>\n",
       "      <td>48087.725</td>\n",
       "      <td>51352.2</td>\n",
       "    </tr>\n",
       "    <tr>\n",
       "      <th>Polynesia</th>\n",
       "      <td>5.0</td>\n",
       "      <td>8686.520000</td>\n",
       "      <td>6956.250286</td>\n",
       "      <td>3362.4</td>\n",
       "      <td>3784.500</td>\n",
       "      <td>4006.00</td>\n",
       "      <td>14118.700</td>\n",
       "      <td>18161.0</td>\n",
       "    </tr>\n",
       "    <tr>\n",
       "      <th>South-easternAsia</th>\n",
       "      <td>11.0</td>\n",
       "      <td>10299.027273</td>\n",
       "      <td>16311.810656</td>\n",
       "      <td>1158.7</td>\n",
       "      <td>1959.050</td>\n",
       "      <td>2904.20</td>\n",
       "      <td>7791.600</td>\n",
       "      <td>52239.0</td>\n",
       "    </tr>\n",
       "    <tr>\n",
       "      <th>SouthAmerica</th>\n",
       "      <td>12.0</td>\n",
       "      <td>8499.775000</td>\n",
       "      <td>4273.707394</td>\n",
       "      <td>3076.8</td>\n",
       "      <td>5611.775</td>\n",
       "      <td>7366.70</td>\n",
       "      <td>11655.725</td>\n",
       "      <td>15573.8</td>\n",
       "    </tr>\n",
       "    <tr>\n",
       "      <th>SouthernAfrica</th>\n",
       "      <td>5.0</td>\n",
       "      <td>4191.900000</td>\n",
       "      <td>2177.551120</td>\n",
       "      <td>940.6</td>\n",
       "      <td>3211.700</td>\n",
       "      <td>4673.60</td>\n",
       "      <td>5773.000</td>\n",
       "      <td>6360.6</td>\n",
       "    </tr>\n",
       "    <tr>\n",
       "      <th>SouthernAsia</th>\n",
       "      <td>9.0</td>\n",
       "      <td>2968.400000</td>\n",
       "      <td>2855.708179</td>\n",
       "      <td>623.2</td>\n",
       "      <td>1207.900</td>\n",
       "      <td>1614.20</td>\n",
       "      <td>3973.700</td>\n",
       "      <td>9446.5</td>\n",
       "    </tr>\n",
       "    <tr>\n",
       "      <th>SouthernEurope</th>\n",
       "      <td>12.0</td>\n",
       "      <td>14462.741667</td>\n",
       "      <td>9541.703216</td>\n",
       "      <td>3984.2</td>\n",
       "      <td>5137.975</td>\n",
       "      <td>14633.70</td>\n",
       "      <td>21337.525</td>\n",
       "      <td>30462.4</td>\n",
       "    </tr>\n",
       "    <tr>\n",
       "      <th>WesternAfrica</th>\n",
       "      <td>15.0</td>\n",
       "      <td>1013.140000</td>\n",
       "      <td>815.095399</td>\n",
       "      <td>359.0</td>\n",
       "      <td>544.700</td>\n",
       "      <td>703.90</td>\n",
       "      <td>1068.050</td>\n",
       "      <td>3080.2</td>\n",
       "    </tr>\n",
       "    <tr>\n",
       "      <th>WesternAsia</th>\n",
       "      <td>18.0</td>\n",
       "      <td>17013.938889</td>\n",
       "      <td>18812.151459</td>\n",
       "      <td>1106.4</td>\n",
       "      <td>3745.800</td>\n",
       "      <td>8848.60</td>\n",
       "      <td>22435.625</td>\n",
       "      <td>73653.4</td>\n",
       "    </tr>\n",
       "    <tr>\n",
       "      <th>WesternEurope</th>\n",
       "      <td>7.0</td>\n",
       "      <td>55387.128571</td>\n",
       "      <td>24770.467728</td>\n",
       "      <td>36304.2</td>\n",
       "      <td>40982.000</td>\n",
       "      <td>44117.70</td>\n",
       "      <td>62581.600</td>\n",
       "      <td>100160.8</td>\n",
       "    </tr>\n",
       "  </tbody>\n",
       "</table>\n",
       "</div>"
      ],
      "text/plain": [
       "                   count          mean           std      min        25%  \\\n",
       "Region                                                                     \n",
       "Caribbean           16.0  15135.562500  14579.371326    793.7   6973.125   \n",
       "CentralAmerica       8.0   6348.137500   4180.440883   2086.9   3558.100   \n",
       "CentralAsia          5.0   4329.880000   4152.215490    925.9   1106.400   \n",
       "EasternAfrica       17.0   2088.852941   3716.131770    144.5    529.200   \n",
       "EasternAsia          7.0  27967.614286  27485.120923    648.0   6041.250   \n",
       "EasternEurope       10.0   9292.490000   5415.488739   1591.4   6024.800   \n",
       "Melanesia            5.0   9261.960000  13855.842686   1841.6   2783.000   \n",
       "Micronesia           4.0   5008.300000   4820.669694   1442.9   2622.125   \n",
       "MiddleAfrica         9.0   3928.833333   5274.846281    333.2    713.000   \n",
       "NorthernAfrica       5.0   3934.960000    974.706575   2919.3   3452.300   \n",
       "NorthernAmerica      4.0  57659.000000  25749.619445  36976.7  41648.375   \n",
       "NorthernEurope      10.0  42098.220000  20671.030185  13704.1  23371.025   \n",
       "Oceania              2.0  44823.250000   9233.329638  38294.3  41558.775   \n",
       "Polynesia            5.0   8686.520000   6956.250286   3362.4   3784.500   \n",
       "South-easternAsia   11.0  10299.027273  16311.810656   1158.7   1959.050   \n",
       "SouthAmerica        12.0   8499.775000   4273.707394   3076.8   5611.775   \n",
       "SouthernAfrica       5.0   4191.900000   2177.551120    940.6   3211.700   \n",
       "SouthernAsia         9.0   2968.400000   2855.708179    623.2   1207.900   \n",
       "SouthernEurope      12.0  14462.741667   9541.703216   3984.2   5137.975   \n",
       "WesternAfrica       15.0   1013.140000    815.095399    359.0    544.700   \n",
       "WesternAsia         18.0  17013.938889  18812.151459   1106.4   3745.800   \n",
       "WesternEurope        7.0  55387.128571  24770.467728  36304.2  40982.000   \n",
       "\n",
       "                        50%        75%       max  \n",
       "Region                                            \n",
       "Caribbean          10243.60  16594.650   62132.0  \n",
       "CentralAmerica      4504.40   9489.425   13268.1  \n",
       "CentralAsia         2308.30   6996.700   10312.1  \n",
       "EasternAfrica        877.30   1368.900   14133.2  \n",
       "EasternAsia        27396.70  38529.850   78586.4  \n",
       "EasternEurope       9182.00  12354.275   17561.7  \n",
       "Melanesia           2797.60   4921.900   33965.7  \n",
       "Micronesia          3233.90   5620.075   12122.5  \n",
       "MiddleAfrica        1752.80   4714.100   16344.1  \n",
       "NorthernAfrica      3660.90   4154.100    5488.2  \n",
       "NorthernAmerica    49629.70  65640.325   94399.9  \n",
       "NorthernEurope     47424.95  52595.975   74185.5  \n",
       "Oceania            44823.25  48087.725   51352.2  \n",
       "Polynesia           4006.00  14118.700   18161.0  \n",
       "South-easternAsia   2904.20   7791.600   52239.0  \n",
       "SouthAmerica        7366.70  11655.725   15573.8  \n",
       "SouthernAfrica      4673.60   5773.000    6360.6  \n",
       "SouthernAsia        1614.20   3973.700    9446.5  \n",
       "SouthernEurope     14633.70  21337.525   30462.4  \n",
       "WesternAfrica        703.90   1068.050    3080.2  \n",
       "WesternAsia         8848.60  22435.625   73653.4  \n",
       "WesternEurope      44117.70  62581.600  100160.8  "
      ]
     },
     "execution_count": 26,
     "metadata": {},
     "output_type": "execute_result"
    }
   ],
   "source": [
    "percapita=data.groupby('Region')['GDP per capita (current US$)'].describe()\n",
    "dataset3=pd.DataFrame(percapita)\n",
    "dataset3"
   ]
  },
  {
   "cell_type": "code",
   "execution_count": 27,
   "id": "2c5c1c7e",
   "metadata": {},
   "outputs": [
    {
     "data": {
      "text/plain": [
       "count      15.000000\n",
       "mean     1013.140000\n",
       "std       815.095399\n",
       "min       359.000000\n",
       "25%       544.700000\n",
       "50%       703.900000\n",
       "75%      1068.050000\n",
       "max      3080.200000\n",
       "Name: WesternAfrica, dtype: float64"
      ]
     },
     "execution_count": 27,
     "metadata": {},
     "output_type": "execute_result"
    }
   ],
   "source": [
    "more_consistent_region=dataset3.loc[dataset3['std'].idxmin()]\n",
    "more_consistent_region"
   ]
  },
  {
   "cell_type": "markdown",
   "id": "84b16a80",
   "metadata": {},
   "source": [
    "#### Answer: Since WesternAfrica has the least standard deviation, can be considered as more consistent region"
   ]
  },
  {
   "cell_type": "code",
   "execution_count": null,
   "id": "30691f08",
   "metadata": {},
   "outputs": [],
   "source": []
  }
 ],
 "metadata": {
  "kernelspec": {
   "display_name": "Python 3",
   "language": "python",
   "name": "python3"
  },
  "language_info": {
   "codemirror_mode": {
    "name": "ipython",
    "version": 3
   },
   "file_extension": ".py",
   "mimetype": "text/x-python",
   "name": "python",
   "nbconvert_exporter": "python",
   "pygments_lexer": "ipython3",
   "version": "3.8.8"
  }
 },
 "nbformat": 4,
 "nbformat_minor": 5
}
